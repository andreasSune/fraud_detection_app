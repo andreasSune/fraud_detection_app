{
 "cells": [
  {
   "cell_type": "code",
   "execution_count": 1,
   "id": "1a3c5e40",
   "metadata": {},
   "outputs": [
    {
     "name": "stdout",
     "output_type": "stream",
     "text": [
      "Chemin ajouté : d:\\Mon portfolio\\fraud_detection_app\\src\n"
     ]
    }
   ],
   "source": [
    "import sys, os\n",
    "# Obtenir le dossier courant (ici notebooks/)\n",
    "notebook_dir = os.getcwd()\n",
    "\n",
    "# Aller dans le dossier parent (la racine du projet)\n",
    "project_root = os.path.abspath(os.path.join(notebook_dir, '..'))\n",
    "\n",
    "# Ajouter le dossier src/ au chemin Python\n",
    "src_path = os.path.join(project_root, 'src')\n",
    "if src_path not in sys.path:\n",
    "    sys.path.append(src_path)\n",
    "\n",
    "print(\"Chemin ajouté :\", src_path)"
   ]
  },
  {
   "cell_type": "code",
   "execution_count": 2,
   "id": "8cf34847",
   "metadata": {},
   "outputs": [],
   "source": [
    "import pandas as pd\n",
    "import numpy as np\n",
    "\n",
    "import matplotlib.pyplot as plt\n",
    "import seaborn as sns\n",
    "import warnings\n",
    "from sklearn.decomposition import PCA\n",
    "from sklearn.preprocessing import RobustScaler\n",
    "import warnings\n",
    "warnings.filterwarnings('ignore')\n",
    "from sklearn.ensemble import RandomForestClassifier\n",
    "from preprocessing import *\n"
   ]
  },
  {
   "cell_type": "code",
   "execution_count": 4,
   "id": "f7bd4219",
   "metadata": {},
   "outputs": [],
   "source": [
    "df = pd.read_csv('../data/creditcard.csv')\n",
    "X_train, X_test, y_train, y_test = data_split()\n",
    "# Reconstruire les DataFrames pour l'analyse\n",
    "train_df = pd.concat([X_train, y_train], axis=1)\n",
    "\n",
    "# Liste des features temporelles importantes (importance >= 0.1)\n",
    "# Cette liste est déterminée après analyse et reste fixe\n",
    "TEMPORAL_FEATURES_SELECTED = [\n",
    "  'Time_normalized',\n",
    "  'Hour',\n",
    "  'Day',\n",
    "  'Hour_cos',\n",
    " 'Hour_sin'\n",
    "]\n"
   ]
  },
  {
   "cell_type": "code",
   "execution_count": null,
   "id": "937ac421",
   "metadata": {},
   "outputs": [],
   "source": [
    "if __name__ == \"__main__\":\n",
    "    \n",
    "    print(\"\\n Preprocessing TRAIN SET\")\n",
    "    X_train_processed, y_train, scaler = data_preprocessing(\n",
    "        X_train, \n",
    "        y_train,\n",
    "        test_data=False\n",
    "    )\n",
    "  \n",
    "    "
   ]
  }
 ],
 "metadata": {
  "kernelspec": {
   "display_name": "env_devoir1",
   "language": "python",
   "name": "dev1"
  },
  "language_info": {
   "codemirror_mode": {
    "name": "ipython",
    "version": 3
   },
   "file_extension": ".py",
   "mimetype": "text/x-python",
   "name": "python",
   "nbconvert_exporter": "python",
   "pygments_lexer": "ipython3",
   "version": "3.8.20"
  }
 },
 "nbformat": 4,
 "nbformat_minor": 5
}
